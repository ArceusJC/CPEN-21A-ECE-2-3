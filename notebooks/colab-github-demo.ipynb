{
  "nbformat": 4,
  "nbformat_minor": 0,
  "metadata": {
    "colab": {
      "name": "colab-github-demo.ipynb",
      "provenance": [],
      "collapsed_sections": [],
      "include_colab_link": true
    },
    "kernelspec": {
      "display_name": "Python 3",
      "name": "python3"
    }
  },
  "cells": [
    {
      "cell_type": "markdown",
      "metadata": {
        "id": "view-in-github",
        "colab_type": "text"
      },
      "source": [
        "<a href=\"https://colab.research.google.com/github/ArceusJC/CPEN-21A-ECE-2-3/blob/main/notebooks/colab-github-demo.ipynb\" target=\"_parent\"><img src=\"https://colab.research.google.com/assets/colab-badge.svg\" alt=\"Open In Colab\"/></a>"
      ]
    },
    {
      "cell_type": "markdown",
      "metadata": {
        "id": "-pVhOfzLx9us"
      },
      "source": [
        "#Conditional Statement in Python\n",
        "\n",
        "\n"
      ]
    },
    {
      "cell_type": "markdown",
      "metadata": {
        "id": "UUfheJ196JMS"
      },
      "source": [
        "###Example 1\n"
      ]
    },
    {
      "cell_type": "code",
      "metadata": {
        "id": "Rc1uH0wV6L-a",
        "outputId": "4ed231cf-f1a0-4dbc-eba2-f1b7ff6a1e71",
        "colab": {
          "base_uri": "https://localhost:8080/"
        }
      },
      "source": [
        "age=int(input(\"Enter your age:\"))\n",
        "if age >=18:\n",
        "  print (\"Qualified to vote\")\n",
        "else:\n",
        "  print (\"Not Qualified to vote\")"
      ],
      "execution_count": 32,
      "outputs": [
        {
          "output_type": "stream",
          "name": "stdout",
          "text": [
            "Enter your age:34\n",
            "Qualified to vote\n"
          ]
        }
      ]
    },
    {
      "cell_type": "markdown",
      "metadata": {
        "id": "qEZyccSlBmFF"
      },
      "source": [
        "##Example 2"
      ]
    },
    {
      "cell_type": "code",
      "metadata": {
        "id": "s6a6vWI4Busg",
        "outputId": "103e907f-f4b8-4e65-f873-04001bd8e864",
        "colab": {
          "base_uri": "https://localhost:8080/"
        }
      },
      "source": [
        "Number=float(input(\"Enter your number:\"))\n",
        "if Number >0:\n",
        "  print (\"Positive\")\n",
        "elif Number == 0:\n",
        "  print (\"Zero\")\n",
        "else: \n",
        "  print (\"Negative\")\n",
        "\n"
      ],
      "execution_count": 39,
      "outputs": [
        {
          "output_type": "stream",
          "name": "stdout",
          "text": [
            "Enter your number:0\n",
            "Zero\n"
          ]
        }
      ]
    },
    {
      "cell_type": "markdown",
      "metadata": {
        "id": "dyobJ53i8ZPk"
      },
      "source": [
        "##Example 3"
      ]
    },
    {
      "cell_type": "code",
      "metadata": {
        "id": "iirC78u59Aeb",
        "outputId": "18670a9f-d4e3-4981-df12-f39d3214dd0d",
        "colab": {
          "base_uri": "https://localhost:8080/"
        }
      },
      "source": [
        "##Write a python program that determines if the grades are#\n",
        "#Grade>= 75 \"Passed\"\n",
        "#Grade == 74 \"Remedial\"\n",
        "#Grade <74 \"Failed\"\n",
        "\n",
        "grade= float(input(\"Enter your grade\"))\n",
        "if grade >=75:\n",
        "  print (\"You passed\")\n",
        "elif grade==74:\n",
        "  print(\"Remedial\")\n",
        "else:\n",
        "  print(\"You failed\")"
      ],
      "execution_count": 31,
      "outputs": [
        {
          "output_type": "stream",
          "name": "stdout",
          "text": [
            "Enter your grade73\n",
            "You failed\n"
          ]
        }
      ]
    }
  ]
}