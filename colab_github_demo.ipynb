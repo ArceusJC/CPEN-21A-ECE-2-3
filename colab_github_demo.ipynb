{
  "cells": [
    {
      "cell_type": "markdown",
      "metadata": {
        "id": "view-in-github",
        "colab_type": "text"
      },
      "source": [
        "<a href=\"https://colab.research.google.com/github/ArceusJC/CPEN-21A-ECE-2-3/blob/main/colab_github_demo.ipynb\" target=\"_parent\"><img src=\"https://colab.research.google.com/assets/colab-badge.svg\" alt=\"Open In Colab\"/></a>"
      ]
    },
    {
      "cell_type": "markdown",
      "source": [
        "###For loop"
      ],
      "metadata": {
        "id": "IT7UWObpi1cI"
      }
    },
    {
      "cell_type": "code",
      "source": [
        "week=[\"Sunday\", \"Monday\", \"Tuesday\", \"Wednesday\", \"Thursday\", \"Friday\", \"Saturday\"]\n",
        "for x in week: \n",
        "  print(x)"
      ],
      "metadata": {
        "colab": {
          "base_uri": "https://localhost:8080/"
        },
        "id": "VedJhHU3i4Aj",
        "outputId": "5edd4f63-c1a3-4fcf-a4dc-374deb022478"
      },
      "execution_count": null,
      "outputs": [
        {
          "output_type": "stream",
          "name": "stdout",
          "text": [
            "Sunday\n",
            "Monday\n",
            "Tuesday\n",
            "Wednesday\n",
            "Thursday\n",
            "Friday\n",
            "Saturday\n"
          ]
        }
      ]
    },
    {
      "cell_type": "markdown",
      "source": [
        "##The break statement"
      ],
      "metadata": {
        "id": "3-yYHv8_i6kY"
      }
    },
    {
      "cell_type": "code",
      "source": [
        "for x in week: \n",
        "  print(x)\n",
        "  if x==\"Thursday\":\n",
        "    break"
      ],
      "metadata": {
        "colab": {
          "base_uri": "https://localhost:8080/"
        },
        "id": "tkQ2eMAci8ko",
        "outputId": "eb8dc8c2-889d-43d8-a5b1-f0f38fe7e8a3"
      },
      "execution_count": null,
      "outputs": [
        {
          "output_type": "stream",
          "name": "stdout",
          "text": [
            "Sunday\n",
            "Monday\n",
            "Tuesday\n",
            "Wednesday\n",
            "Thursday\n"
          ]
        }
      ]
    },
    {
      "cell_type": "code",
      "source": [
        "for x in week: \n",
        "  if x==\"Thursday\": \n",
        "    break \n",
        "  print(x)"
      ],
      "metadata": {
        "colab": {
          "base_uri": "https://localhost:8080/"
        },
        "id": "nPEqfxLFjE0c",
        "outputId": "5ad624a0-33d7-435f-d04c-eb3b4dfb57e1"
      },
      "execution_count": null,
      "outputs": [
        {
          "output_type": "stream",
          "name": "stdout",
          "text": [
            "Sunday\n",
            "Monday\n",
            "Tuesday\n",
            "Wednesday\n"
          ]
        }
      ]
    },
    {
      "cell_type": "markdown",
      "source": [
        "##Looping through a string"
      ],
      "metadata": {
        "id": "5KB1crrNjGpf"
      }
    },
    {
      "cell_type": "code",
      "source": [
        "for x in \"week\":\n",
        "  print (x)\n"
      ],
      "metadata": {
        "colab": {
          "base_uri": "https://localhost:8080/"
        },
        "id": "zTInskDjjJS1",
        "outputId": "fdb541d1-cc08-4b16-f6d1-bb4abaaaeea1"
      },
      "execution_count": null,
      "outputs": [
        {
          "output_type": "stream",
          "name": "stdout",
          "text": [
            "w\n",
            "e\n",
            "e\n",
            "k\n"
          ]
        }
      ]
    },
    {
      "cell_type": "code",
      "source": [
        "for x in \"programming logic and design\":\n",
        "  print (x)"
      ],
      "metadata": {
        "colab": {
          "base_uri": "https://localhost:8080/"
        },
        "id": "25i-9O1JjLZl",
        "outputId": "573b13ae-8d49-4b13-fea8-667cdc6a0b20"
      },
      "execution_count": null,
      "outputs": [
        {
          "output_type": "stream",
          "name": "stdout",
          "text": [
            "p\n",
            "r\n",
            "o\n",
            "g\n",
            "r\n",
            "a\n",
            "m\n",
            "m\n",
            "i\n",
            "n\n",
            "g\n",
            " \n",
            "l\n",
            "o\n",
            "g\n",
            "i\n",
            "c\n",
            " \n",
            "a\n",
            "n\n",
            "d\n",
            " \n",
            "d\n",
            "e\n",
            "s\n",
            "i\n",
            "g\n",
            "n\n"
          ]
        }
      ]
    },
    {
      "cell_type": "markdown",
      "source": [
        "##The range function"
      ],
      "metadata": {
        "id": "GNBtcIjGjPC_"
      }
    },
    {
      "cell_type": "code",
      "source": [
        "for x in range (6):\n",
        "  print(x)\n",
        "  "
      ],
      "metadata": {
        "colab": {
          "base_uri": "https://localhost:8080/"
        },
        "id": "8FFMTPoujQuX",
        "outputId": "4e72f1bd-5adf-449e-dbb8-48131af3b180"
      },
      "execution_count": null,
      "outputs": [
        {
          "output_type": "stream",
          "name": "stdout",
          "text": [
            "0\n",
            "1\n",
            "2\n",
            "3\n",
            "4\n",
            "5\n"
          ]
        }
      ]
    },
    {
      "cell_type": "code",
      "source": [
        "for x in range (2,6):\n",
        "    print(x)"
      ],
      "metadata": {
        "id": "12NCGERhjTAW"
      },
      "execution_count": null,
      "outputs": []
    },
    {
      "cell_type": "markdown",
      "source": [
        "##Nested Loops"
      ],
      "metadata": {
        "id": "HYDRAU51jUz8"
      }
    },
    {
      "cell_type": "code",
      "source": [
        "adjective=[\"red\",\"big\",\"tasty\"]\n",
        "fruits=[\"apple\",\"banana\",\"cherry\"]\n",
        "for x in adjective:\n",
        "  for y in fruits: \n",
        "    print(x,y)"
      ],
      "metadata": {
        "id": "ZVsgJ5a5jWgS"
      },
      "execution_count": null,
      "outputs": []
    },
    {
      "cell_type": "markdown",
      "source": [
        "##While Loop"
      ],
      "metadata": {
        "id": "IxhKeklAjY8q"
      }
    },
    {
      "cell_type": "code",
      "source": [
        "i=1\n",
        "while i<6:\n",
        "  print(i)\n",
        "  i+=1 #Assignment Operator #The same as i=i+1\n",
        "  "
      ],
      "metadata": {
        "colab": {
          "base_uri": "https://localhost:8080/"
        },
        "id": "F0o6egsWjaVM",
        "outputId": "e3ad596d-2e9b-4aa0-8ce9-0e3c91f1c326"
      },
      "execution_count": null,
      "outputs": [
        {
          "output_type": "stream",
          "name": "stdout",
          "text": [
            "1\n",
            "2\n",
            "3\n",
            "4\n",
            "5\n"
          ]
        }
      ]
    },
    {
      "cell_type": "code",
      "source": [
        "i=1\n",
        "while i<=6:\n",
        "  print(i)\n",
        "  i+=1 #Assignment Operator #The same as i=i+1"
      ],
      "metadata": {
        "id": "4bGuWNhujcKr"
      },
      "execution_count": null,
      "outputs": []
    },
    {
      "cell_type": "markdown",
      "source": [
        "##Break statement under while"
      ],
      "metadata": {
        "id": "VLqtPHV5jdws"
      }
    },
    {
      "cell_type": "code",
      "source": [
        "i=1\n",
        "while i<6:\n",
        "  print(i)\n",
        "  if i==3:\n",
        "    break\n",
        "  else:\n",
        "    i+=1"
      ],
      "metadata": {
        "id": "87L0ZiGejfAA"
      },
      "execution_count": null,
      "outputs": []
    },
    {
      "cell_type": "markdown",
      "source": [
        "##The continue statement"
      ],
      "metadata": {
        "id": "JUAB-Cv-jiEV"
      }
    },
    {
      "cell_type": "code",
      "source": [
        "i=0\n",
        "while i<6:\n",
        "  i+=1\n",
        "  if i==3:\n",
        "    continue\n",
        "  print(i)"
      ],
      "metadata": {
        "id": "ssSdsuiUjndI"
      },
      "execution_count": null,
      "outputs": []
    },
    {
      "cell_type": "markdown",
      "source": [
        "##Else Statement"
      ],
      "metadata": {
        "id": "lfuhkWRfjou4"
      }
    },
    {
      "cell_type": "code",
      "source": [
        "i=1\n",
        "while i<6:\n",
        "    print(i)\n",
        "    i+=1\n",
        "else:\n",
        "  print(\"i is no longer less than 6\")"
      ],
      "metadata": {
        "id": "XL6QxtdBjqCN"
      },
      "execution_count": null,
      "outputs": []
    },
    {
      "cell_type": "markdown",
      "source": [
        "##Application 1"
      ],
      "metadata": {
        "id": "ksTCpG6Bjrle"
      }
    },
    {
      "cell_type": "code",
      "source": [
        "value=[\"Value\"]\n",
        "number=[\"0\",\"1\",\"2\",\"3\",\"4\",\"5\",\"6\",\"7\",\"8\",\"9\",\"10\"]\n",
        "\n",
        "for x in value:\n",
        "  for y in number: \n",
        "    print(x,y)"
      ],
      "metadata": {
        "id": "rlz_4vsSjs-8"
      },
      "execution_count": null,
      "outputs": []
    },
    {
      "cell_type": "markdown",
      "source": [
        "##Using while loop on application 1"
      ],
      "metadata": {
        "id": "MJvvSHs3juhU"
      }
    },
    {
      "cell_type": "code",
      "source": [
        "value=[\"Value\"]\n",
        "number=[\"0\",\"1\",\"2\",\"3\",\"4\",\"5\",\"6\",\"7\",\"8\",\"9\",\"10\"]\n",
        "\n",
        "i=0\n",
        "while i<=10:\n",
        "    print(\"value\", i)\n",
        "    i+=1 #Assignment operator for addition"
      ],
      "metadata": {
        "id": "4EMOcyiTjv54"
      },
      "execution_count": null,
      "outputs": []
    },
    {
      "cell_type": "markdown",
      "source": [
        "##Application 2\n"
      ],
      "metadata": {
        "id": "VK7iyLU4jyi9"
      }
    },
    {
      "cell_type": "code",
      "source": [
        "for x in range (3,20): \n",
        "  print(x)"
      ],
      "metadata": {
        "id": "BiZrBIpGj0WG"
      },
      "execution_count": null,
      "outputs": []
    }
  ],
  "metadata": {
    "colab": {
      "collapsed_sections": [],
      "name": "colab-github-demo.ipynb",
      "provenance": [],
      "toc_visible": true,
      "include_colab_link": true
    },
    "kernelspec": {
      "display_name": "Python 3",
      "name": "python3"
    }
  },
  "nbformat": 4,
  "nbformat_minor": 0
}