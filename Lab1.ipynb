{
  "nbformat": 4,
  "nbformat_minor": 0,
  "metadata": {
    "colab": {
      "name": "Lab1.ipynb",
      "provenance": [],
      "toc_visible": true,
      "authorship_tag": "ABX9TyPbmoBiXsDeSVXwnWf6hKjo",
      "include_colab_link": true
    },
    "kernelspec": {
      "name": "python3",
      "display_name": "Python 3"
    },
    "language_info": {
      "name": "python"
    }
  },
  "cells": [
    {
      "cell_type": "markdown",
      "metadata": {
        "id": "view-in-github",
        "colab_type": "text"
      },
      "source": [
        "<a href=\"https://colab.research.google.com/github/ArceusJC/CPEN-21A-ECE-2-3/blob/main/Lab1.ipynb\" target=\"_parent\"><img src=\"https://colab.research.google.com/assets/colab-badge.svg\" alt=\"Open In Colab\"/></a>"
      ]
    },
    {
      "cell_type": "markdown",
      "metadata": {
        "id": "PXdQO52EmCUK"
      },
      "source": [
        "###\"Laboratory 1\""
      ]
    },
    {
      "cell_type": "code",
      "metadata": {
        "colab": {
          "base_uri": "https://localhost:8080/"
        },
        "id": "0S_ttIASj-Yf",
        "outputId": "00d41781-f81a-4e1a-876d-4188f20007b7"
      },
      "source": [
        "print(\"Welcome to Python Programming\")\n"
      ],
      "execution_count": 43,
      "outputs": [
        {
          "output_type": "stream",
          "name": "stdout",
          "text": [
            "Welcome to Python Programming\n"
          ]
        }
      ]
    },
    {
      "cell_type": "code",
      "metadata": {
        "colab": {
          "base_uri": "https://localhost:8080/"
        },
        "id": "fRBylmfqmAjE",
        "outputId": "7bc93f9f-c936-4a0c-ef60-c73abae57810"
      },
      "source": [
        "a=\"Jose Carlo E. Mendoza\"\n",
        "b= \"Mindanao Catering brgy.lalo, Tayabas City , Quezon Province\"\n",
        "c=\"23\"\n",
        "\n",
        "print(\"My Name is \" + a )\n",
        "print(\"My Address is at \" + b )\n",
        "print(\"My current Age is \" + c)\n",
        "\n",
        "\n"
      ],
      "execution_count": 38,
      "outputs": [
        {
          "output_type": "stream",
          "name": "stdout",
          "text": [
            "My Name is Jose Carlo E. Mendoza\n",
            "My Address is at Mindanao Catering brgy.lalo, Tayabas City , Quezon Province\n",
            "My current Age is 23\n"
          ]
        }
      ]
    }
  ]
}