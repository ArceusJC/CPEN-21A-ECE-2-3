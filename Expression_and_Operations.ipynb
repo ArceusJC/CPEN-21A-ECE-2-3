{
  "nbformat": 4,
  "nbformat_minor": 0,
  "metadata": {
    "colab": {
      "name": "Expression_and_Operations.ipynb",
      "provenance": [],
      "authorship_tag": "ABX9TyMOE5I7bzJPcT5+e8DxLkK5",
      "include_colab_link": true
    },
    "kernelspec": {
      "name": "python3",
      "display_name": "Python 3"
    },
    "language_info": {
      "name": "python"
    }
  },
  "cells": [
    {
      "cell_type": "markdown",
      "metadata": {
        "id": "view-in-github",
        "colab_type": "text"
      },
      "source": [
        "<a href=\"https://colab.research.google.com/github/ArceusJC/CPEN-21A-ECE-2-3/blob/main/Expression_and_Operations.ipynb\" target=\"_parent\"><img src=\"https://colab.research.google.com/assets/colab-badge.svg\" alt=\"Open In Colab\"/></a>"
      ]
    },
    {
      "cell_type": "markdown",
      "metadata": {
        "id": "Hiqv_6_y7INu"
      },
      "source": [
        "###Boolean Operators"
      ]
    },
    {
      "cell_type": "code",
      "metadata": {
        "colab": {
          "base_uri": "https://localhost:8080/"
        },
        "id": "qhr0GcsD7ORn",
        "outputId": "99a4fafa-5356-49c2-db53-3d7cb16f452b"
      },
      "source": [
        "a= 1\n",
        "b= 2\n",
        "print(a>b)\n",
        "print(a<b)\n",
        "print(a==a)\n",
        "print(a!=b)"
      ],
      "execution_count": 2,
      "outputs": [
        {
          "output_type": "stream",
          "name": "stdout",
          "text": [
            "False\n",
            "True\n",
            "True\n",
            "True\n"
          ]
        }
      ]
    },
    {
      "cell_type": "markdown",
      "metadata": {
        "id": "kNh_gWba7Uly"
      },
      "source": [
        "\n",
        "###Boolean Function"
      ]
    },
    {
      "cell_type": "code",
      "metadata": {
        "colab": {
          "base_uri": "https://localhost:8080/"
        },
        "id": "4uKib54a7Wl8",
        "outputId": "41983e70-2cb3-4aca-8c14-fbe1358f1e24"
      },
      "source": [
        "print(bool(15))\n",
        "print(bool(True))\n",
        "print(bool(1))\n",
        "print(bool(False))\n",
        "print(bool(0))\n",
        "print(bool(None))"
      ],
      "execution_count": 3,
      "outputs": [
        {
          "output_type": "stream",
          "name": "stdout",
          "text": [
            "True\n",
            "True\n",
            "True\n",
            "False\n",
            "False\n",
            "False\n"
          ]
        }
      ]
    },
    {
      "cell_type": "markdown",
      "metadata": {
        "id": "SaZCx6Uw7Z6T"
      },
      "source": [
        "\n",
        "Functions Return a Boolean"
      ]
    },
    {
      "cell_type": "code",
      "metadata": {
        "colab": {
          "base_uri": "https://localhost:8080/"
        },
        "id": "E42_HUoE7cPr",
        "outputId": "bb38ecdf-2d55-4dbf-effc-ef2aebcd9c96"
      },
      "source": [
        "\n",
        "def myFunction():return True\n",
        "print(myFunction())"
      ],
      "execution_count": 4,
      "outputs": [
        {
          "output_type": "stream",
          "name": "stdout",
          "text": [
            "True\n"
          ]
        }
      ]
    },
    {
      "cell_type": "code",
      "metadata": {
        "colab": {
          "base_uri": "https://localhost:8080/"
        },
        "id": "shlJJfCT7j3S",
        "outputId": "988e30a1-9847-4461-aab6-54387820b863"
      },
      "source": [
        "def myFunction():return False\n",
        "if myFunction ():\n",
        "  print(\"True\")\n",
        "else:\n",
        "  print(\"False\")\n",
        "  "
      ],
      "execution_count": 5,
      "outputs": [
        {
          "output_type": "stream",
          "name": "stdout",
          "text": [
            "False\n"
          ]
        }
      ]
    },
    {
      "cell_type": "markdown",
      "metadata": {
        "id": "ZRVwQjmv7o0U"
      },
      "source": [
        "###Relational Operator"
      ]
    },
    {
      "cell_type": "code",
      "metadata": {
        "colab": {
          "base_uri": "https://localhost:8080/"
        },
        "id": "MEM5JcQJ7qgn",
        "outputId": "c7b2d7e7-4761-4e6a-8fb6-4af583027b2d"
      },
      "source": [
        "x=39\n",
        "y=34\n",
        "print(a<b)\n",
        "print(a>b)\n",
        "print (a<=b)\n",
        "print(a>=b)\n",
        "print(a==b)\n",
        "print(a!=b)"
      ],
      "execution_count": 11,
      "outputs": [
        {
          "output_type": "stream",
          "name": "stdout",
          "text": [
            "False\n",
            "True\n",
            "False\n",
            "True\n",
            "False\n",
            "True\n"
          ]
        }
      ]
    },
    {
      "cell_type": "markdown",
      "metadata": {
        "id": "2QwvPSVc7s1e"
      },
      "source": [
        "###Arithmetic Operator"
      ]
    },
    {
      "cell_type": "code",
      "metadata": {
        "colab": {
          "base_uri": "https://localhost:8080/"
        },
        "id": "jdDGlzbY7tZs",
        "outputId": "3f2323e4-f29c-4254-c08a-cea54f15e4b7"
      },
      "source": [
        "print(10+5)\n",
        "print(10-5)\n",
        "print(10*5)\n",
        "print(10/5)\n",
        "print(10%5)#modulo division\n"
      ],
      "execution_count": 6,
      "outputs": [
        {
          "output_type": "stream",
          "name": "stdout",
          "text": [
            "15\n",
            "5\n",
            "50\n",
            "2.0\n",
            "0\n"
          ]
        }
      ]
    },
    {
      "cell_type": "markdown",
      "metadata": {
        "id": "Md7yM_Aa7wjQ"
      },
      "source": [
        "###Bitwise Operators"
      ]
    },
    {
      "cell_type": "code",
      "metadata": {
        "colab": {
          "base_uri": "https://localhost:8080/"
        },
        "id": "b-I6sDgH7x3i",
        "outputId": "b05b40e4-ed55-4549-db5a-3aa1d07b3cac"
      },
      "source": [
        "a=60 #0011 1100\n",
        "b=13 #0000 1101\n",
        "print(a & b)\n",
        "print(a|b)\n",
        "print(a^b)\n",
        "print(a<<2)#0011 1100\n",
        "print(a>>1)"
      ],
      "execution_count": 7,
      "outputs": [
        {
          "output_type": "stream",
          "name": "stdout",
          "text": [
            "12\n",
            "61\n",
            "49\n",
            "240\n",
            "30\n"
          ]
        }
      ]
    },
    {
      "cell_type": "markdown",
      "metadata": {
        "id": "Q8gRAlpM71BK"
      },
      "source": [
        "###Assignment Operators"
      ]
    },
    {
      "cell_type": "code",
      "metadata": {
        "colab": {
          "base_uri": "https://localhost:8080/"
        },
        "id": "eNndhGbP72NT",
        "outputId": "ad55746b-b89a-45e9-853e-0edf4e1a7671"
      },
      "source": [
        "a+=3 #Same As a= a+3, a=60, a=63\n",
        "print(a)"
      ],
      "execution_count": 8,
      "outputs": [
        {
          "output_type": "stream",
          "name": "stdout",
          "text": [
            "63\n"
          ]
        }
      ]
    },
    {
      "cell_type": "markdown",
      "metadata": {
        "id": "xOeSV4H274hC"
      },
      "source": [
        "\n",
        "###Logical Operator"
      ]
    },
    {
      "cell_type": "code",
      "metadata": {
        "colab": {
          "base_uri": "https://localhost:8080/"
        },
        "id": "5wDdukIj75v_",
        "outputId": "7aa47fc1-4897-4ba8-fcf1-8bcd6b272d7a"
      },
      "source": [
        "a =True\n",
        "b =False\n",
        "print(a and b)\n",
        "print(a or b)\n",
        "print(not(a or b))\n",
        "print(a>b and b>a)\n",
        "print(a==a or b==b)\n",
        "print(not(a==a or b==b))\n"
      ],
      "execution_count": 9,
      "outputs": [
        {
          "output_type": "stream",
          "name": "stdout",
          "text": [
            "False\n",
            "True\n",
            "False\n",
            "False\n",
            "True\n",
            "False\n"
          ]
        }
      ]
    },
    {
      "cell_type": "markdown",
      "metadata": {
        "id": "2T-sRPkk78Y4"
      },
      "source": [
        "\n",
        "###Identity Operators\n"
      ]
    },
    {
      "cell_type": "code",
      "metadata": {
        "colab": {
          "base_uri": "https://localhost:8080/"
        },
        "id": "HdAfKq1H7-YW",
        "outputId": "70160cba-a5ee-4196-b83e-7f4e235a2434"
      },
      "source": [
        "print(a is b)\n",
        "print(a is not b)\n"
      ],
      "execution_count": 10,
      "outputs": [
        {
          "output_type": "stream",
          "name": "stdout",
          "text": [
            "False\n",
            "True\n"
          ]
        }
      ]
    },
    {
      "cell_type": "code",
      "metadata": {
        "id": "ZQ0lzgTB8AFz"
      },
      "source": [
        ""
      ],
      "execution_count": null,
      "outputs": []
    }
  ]
}