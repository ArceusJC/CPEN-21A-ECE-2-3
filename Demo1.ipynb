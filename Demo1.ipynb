{
  "nbformat": 4,
  "nbformat_minor": 0,
  "metadata": {
    "colab": {
      "name": "Demo1.ipynb",
      "provenance": [],
      "authorship_tag": "ABX9TyNAEaTEpcxZA/89IgA4ZQVw",
      "include_colab_link": true
    },
    "kernelspec": {
      "name": "python3",
      "display_name": "Python 3"
    },
    "language_info": {
      "name": "python"
    }
  },
  "cells": [
    {
      "cell_type": "markdown",
      "metadata": {
        "id": "view-in-github",
        "colab_type": "text"
      },
      "source": [
        "<a href=\"https://colab.research.google.com/github/ArceusJC/CPEN-21A-ECE-2-3/blob/main/Demo1.ipynb\" target=\"_parent\"><img src=\"https://colab.research.google.com/assets/colab-badge.svg\" alt=\"Open In Colab\"/></a>"
      ]
    },
    {
      "cell_type": "markdown",
      "metadata": {
        "id": "bN9pMzHRvoUi"
      },
      "source": [
        "####Phyton INDENTATION"
      ]
    },
    {
      "cell_type": "markdown",
      "metadata": {
        "id": "9xtf_LXcw9Za"
      },
      "source": [
        ""
      ]
    },
    {
      "cell_type": "code",
      "metadata": {
        "colab": {
          "base_uri": "https://localhost:8080/"
        },
        "id": "98ht2IdjvnT3",
        "outputId": "2baec404-c56b-4393-9932-1b1162afed80"
      },
      "source": [
        "if 5>2:\n",
        " print(\"Five is greater than two!\") #\n"
      ],
      "execution_count": 12,
      "outputs": [
        {
          "output_type": "stream",
          "name": "stdout",
          "text": [
            "Five is greater than two!\n"
          ]
        }
      ]
    },
    {
      "cell_type": "markdown",
      "metadata": {
        "id": "H8h132ccw_JK"
      },
      "source": [
        "####Phyton Variable\n"
      ]
    },
    {
      "cell_type": "code",
      "metadata": {
        "colab": {
          "base_uri": "https://localhost:8080/"
        },
        "id": "vVJ_JAwfxF1F",
        "outputId": "1eb72509-caf1-4d22-f24b-8621b19dbb18"
      },
      "source": [
        "a, b, c = 0,-1,2\n",
        "print (a)\n",
        "print (b)\n",
        "print (c)"
      ],
      "execution_count": 14,
      "outputs": [
        {
          "output_type": "stream",
          "name": "stdout",
          "text": [
            "0\n",
            "-1\n",
            "2\n"
          ]
        }
      ]
    },
    {
      "cell_type": "markdown",
      "metadata": {
        "id": "5_8E5zqMxsV2"
      },
      "source": [
        "#####CASTING\n"
      ]
    },
    {
      "cell_type": "code",
      "metadata": {
        "colab": {
          "base_uri": "https://localhost:8080/"
        },
        "id": "t8WrRsXfxvEO",
        "outputId": "679ea96d-8385-4619-cd3c-cdc5e8ac2634"
      },
      "source": [
        "b =\"sally\" #this is a type of string\n",
        "b=int(3)\n",
        "print(b)"
      ],
      "execution_count": 16,
      "outputs": [
        {
          "output_type": "stream",
          "name": "stdout",
          "text": [
            "3\n"
          ]
        }
      ]
    },
    {
      "cell_type": "code",
      "metadata": {
        "colab": {
          "base_uri": "https://localhost:8080/"
        },
        "id": "Xv7uZy8mxMa_",
        "outputId": "3a773689-e075-47d9-feec-c0876a00b0a3"
      },
      "source": [
        "b=float(3)\n",
        "print(b)\n"
      ],
      "execution_count": 17,
      "outputs": [
        {
          "output_type": "stream",
          "name": "stdout",
          "text": [
            "3.0\n"
          ]
        }
      ]
    },
    {
      "cell_type": "code",
      "metadata": {
        "id": "4c3WlWtVyUdH"
      },
      "source": [
        ""
      ],
      "execution_count": null,
      "outputs": []
    },
    {
      "cell_type": "markdown",
      "metadata": {
        "id": "drkf2TQc0NOw"
      },
      "source": [
        "##TYPE () FUNCTION\n"
      ]
    },
    {
      "cell_type": "code",
      "metadata": {
        "colab": {
          "base_uri": "https://localhost:8080/"
        },
        "id": "ZnLcgjgs0SPg",
        "outputId": "490b468d-50c6-4605-e57b-ec1ff5b392ee"
      },
      "source": [
        "x=\"1231\"\n",
        "y= 5\n",
        "print (type(x))\n",
        "print(type(y))"
      ],
      "execution_count": 24,
      "outputs": [
        {
          "output_type": "stream",
          "name": "stdout",
          "text": [
            "<class 'str'>\n",
            "<class 'int'>\n"
          ]
        }
      ]
    },
    {
      "cell_type": "markdown",
      "metadata": {
        "id": "0zcPbonZ1AKN"
      },
      "source": [
        "#Double Quotes or Single Quotes"
      ]
    },
    {
      "cell_type": "code",
      "metadata": {
        "colab": {
          "base_uri": "https://localhost:8080/"
        },
        "id": "eldp0GU-0W_4",
        "outputId": "7be57453-a5b1-41f5-b860-c105b5144012"
      },
      "source": [
        "x= \"jane\"\n",
        "x= 'john'\n",
        "print(x)\n"
      ],
      "execution_count": 26,
      "outputs": [
        {
          "output_type": "stream",
          "name": "stdout",
          "text": [
            "john\n"
          ]
        }
      ]
    },
    {
      "cell_type": "code",
      "metadata": {
        "colab": {
          "base_uri": "https://localhost:8080/"
        },
        "id": "pLmynBil1JYa",
        "outputId": "47b82096-75d3-4b31-ff34-bff344f6bfcf"
      },
      "source": [
        "x='jane'\n",
        "x=\"john\"\n",
        "print(x)"
      ],
      "execution_count": 27,
      "outputs": [
        {
          "output_type": "stream",
          "name": "stdout",
          "text": [
            "john\n"
          ]
        }
      ]
    },
    {
      "cell_type": "code",
      "metadata": {
        "colab": {
          "base_uri": "https://localhost:8080/"
        },
        "id": "0n9vQgeO1XDf",
        "outputId": "377df1cb-6d95-41a9-8821-3a214b8168be"
      },
      "source": [
        "x=\"john\"\n",
        "x='Jane'\n",
        "print(x)"
      ],
      "execution_count": 28,
      "outputs": [
        {
          "output_type": "stream",
          "name": "stdout",
          "text": [
            "Jane\n"
          ]
        }
      ]
    },
    {
      "cell_type": "code",
      "metadata": {
        "id": "30hb9BU51b8d"
      },
      "source": [
        ""
      ],
      "execution_count": null,
      "outputs": []
    },
    {
      "cell_type": "markdown",
      "metadata": {
        "id": "j7kvsvQL2DIp"
      },
      "source": [
        "##Case Sensitive"
      ]
    },
    {
      "cell_type": "code",
      "metadata": {
        "colab": {
          "base_uri": "https://localhost:8080/"
        },
        "id": "R1S_PwgX2GTA",
        "outputId": "ce00d1a5-4320-4405-c6ad-1539d841a1a5"
      },
      "source": [
        "y=4\n",
        "Y=31\n",
        "print(y)\n",
        "print(Y)"
      ],
      "execution_count": 29,
      "outputs": [
        {
          "output_type": "stream",
          "name": "stdout",
          "text": [
            "4\n",
            "31\n"
          ]
        }
      ]
    },
    {
      "cell_type": "code",
      "metadata": {
        "id": "BQKri_cA2UO_"
      },
      "source": [
        ""
      ],
      "execution_count": null,
      "outputs": []
    },
    {
      "cell_type": "markdown",
      "metadata": {
        "id": "FSu-haLs5Wqs"
      },
      "source": [
        "##Multiple Variables\n"
      ]
    },
    {
      "cell_type": "code",
      "metadata": {
        "colab": {
          "base_uri": "https://localhost:8080/"
        },
        "id": "27_Litvy5Z__",
        "outputId": "83949bbb-812d-4e47-885e-7d62f7118ef7"
      },
      "source": [
        "a,b,c=5,3,1\n",
        "print(a)\n",
        "print(b)\n",
        "print(c)\n"
      ],
      "execution_count": 31,
      "outputs": [
        {
          "output_type": "stream",
          "name": "stdout",
          "text": [
            "5\n",
            "3\n",
            "1\n"
          ]
        }
      ]
    },
    {
      "cell_type": "code",
      "metadata": {
        "id": "PfsR6Gjn5dMd"
      },
      "source": [
        ""
      ],
      "execution_count": null,
      "outputs": []
    },
    {
      "cell_type": "markdown",
      "metadata": {
        "id": "XyoLZ0BL5nVy"
      },
      "source": [
        "##One to multiple variable"
      ]
    },
    {
      "cell_type": "code",
      "metadata": {
        "colab": {
          "base_uri": "https://localhost:8080/"
        },
        "id": "TXHDgy6F5qGu",
        "outputId": "71498251-2bd7-4ba6-845c-6975ebef0366"
      },
      "source": [
        "x=y=z=\"Five\"\n",
        "print(x)\n",
        "print(y)\n",
        "print(z)"
      ],
      "execution_count": 34,
      "outputs": [
        {
          "output_type": "stream",
          "name": "stdout",
          "text": [
            "Five\n",
            "Five\n",
            "Five\n"
          ]
        }
      ]
    },
    {
      "cell_type": "code",
      "metadata": {
        "colab": {
          "base_uri": "https://localhost:8080/"
        },
        "id": "krKPvXKx5zSH",
        "outputId": "91b8d2e5-9164-49a8-cfb9-60000f7862bd"
      },
      "source": [
        "a=b=c=8\n",
        "print(a)\n",
        "print(b)\n",
        "print(c)"
      ],
      "execution_count": 39,
      "outputs": [
        {
          "output_type": "stream",
          "name": "stdout",
          "text": [
            "8\n",
            "8\n",
            "8\n"
          ]
        }
      ]
    },
    {
      "cell_type": "markdown",
      "metadata": {
        "id": "hVaGWnhv65k0"
      },
      "source": [
        "##Output variables"
      ]
    },
    {
      "cell_type": "code",
      "metadata": {
        "colab": {
          "base_uri": "https://localhost:8080/"
        },
        "id": "-ypi2OzV6Ar3",
        "outputId": "9e168d79-29bd-4813-cad4-ddcd4bd128f2"
      },
      "source": [
        "x= \"enjoying\"\n",
        "print (\"Valorant is \" + x)"
      ],
      "execution_count": 42,
      "outputs": [
        {
          "output_type": "stream",
          "name": "stdout",
          "text": [
            "Valorant is enjoying\n"
          ]
        }
      ]
    },
    {
      "cell_type": "code",
      "metadata": {
        "id": "Im08ZmpJ69JN"
      },
      "source": [
        ""
      ],
      "execution_count": null,
      "outputs": []
    },
    {
      "cell_type": "markdown",
      "metadata": {
        "id": "uYjkNySS-5Id"
      },
      "source": [
        "##Arithmetic Operations"
      ]
    },
    {
      "cell_type": "code",
      "metadata": {
        "colab": {
          "base_uri": "https://localhost:8080/"
        },
        "id": "rk1037Ue-6tW",
        "outputId": "a779b277-a127-4194-b013-f6232a4153d4"
      },
      "source": [
        "x=5\n",
        "y = 3\n",
        "sum=x+y\n",
        "sum\n"
      ],
      "execution_count": 49,
      "outputs": [
        {
          "output_type": "execute_result",
          "data": {
            "text/plain": [
              "8"
            ]
          },
          "metadata": {},
          "execution_count": 49
        }
      ]
    },
    {
      "cell_type": "code",
      "metadata": {
        "colab": {
          "base_uri": "https://localhost:8080/"
        },
        "id": "3pHANVa6-_aE",
        "outputId": "f01b4197-6243-4b1f-bcd1-496f6efe49ec"
      },
      "source": [
        "x=5\n",
        "y = 3\n",
        "print (x + y)\n",
        "x=5\n",
        "y=3\n",
        "sum=x+y\n",
        "sum\n"
      ],
      "execution_count": 48,
      "outputs": [
        {
          "output_type": "stream",
          "name": "stdout",
          "text": [
            "8\n"
          ]
        },
        {
          "output_type": "execute_result",
          "data": {
            "text/plain": [
              "8"
            ]
          },
          "metadata": {},
          "execution_count": 48
        }
      ]
    },
    {
      "cell_type": "markdown",
      "metadata": {
        "id": "ONCZ27F1_Y-O"
      },
      "source": [
        "##Assignment Operators"
      ]
    },
    {
      "cell_type": "code",
      "metadata": {
        "colab": {
          "base_uri": "https://localhost:8080/"
        },
        "id": "ENDLDMLp_aYE",
        "outputId": "9b3b2add-94e7-47b8-a160-a3035339bbeb"
      },
      "source": [
        "a,b,c=0,2,13\n",
        "c%b #% is the remainder\n",
        "\n"
      ],
      "execution_count": 54,
      "outputs": [
        {
          "output_type": "execute_result",
          "data": {
            "text/plain": [
              "1"
            ]
          },
          "metadata": {},
          "execution_count": 54
        }
      ]
    },
    {
      "cell_type": "markdown",
      "metadata": {
        "id": "WIEYCIK6A8TB"
      },
      "source": [
        "##Logical Operators"
      ]
    },
    {
      "cell_type": "code",
      "metadata": {
        "colab": {
          "base_uri": "https://localhost:8080/"
        },
        "id": "ds5-knRrA-C9",
        "outputId": "0645b6e9-2b88-4f83-a967-1d2c02f6e090"
      },
      "source": [
        "a,b,c=0,-1,6\n",
        "-2>b and c>b #if one is wrong then all is false\n"
      ],
      "execution_count": 61,
      "outputs": [
        {
          "output_type": "execute_result",
          "data": {
            "text/plain": [
              "False"
            ]
          },
          "metadata": {},
          "execution_count": 61
        }
      ]
    },
    {
      "cell_type": "markdown",
      "metadata": {
        "id": "KnwWcYm4Bfzy"
      },
      "source": [
        "###Identity Operators"
      ]
    },
    {
      "cell_type": "code",
      "metadata": {
        "colab": {
          "base_uri": "https://localhost:8080/"
        },
        "id": "I_550fXIBhFo",
        "outputId": "4cb74dd3-cd59-44e2-ab17-d1534515de15"
      },
      "source": [
        "a,b,c=0,-1,5\n",
        "a is c\n"
      ],
      "execution_count": 62,
      "outputs": [
        {
          "output_type": "execute_result",
          "data": {
            "text/plain": [
              "False"
            ]
          },
          "metadata": {},
          "execution_count": 62
        }
      ]
    }
  ]
}