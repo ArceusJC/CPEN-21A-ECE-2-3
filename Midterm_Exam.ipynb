{
  "nbformat": 4,
  "nbformat_minor": 0,
  "metadata": {
    "colab": {
      "name": "Midterm Exam.ipynb",
      "provenance": [],
      "authorship_tag": "ABX9TyMkhfk2xW6Vf8ryukV94dBn",
      "include_colab_link": true
    },
    "kernelspec": {
      "name": "python3",
      "display_name": "Python 3"
    },
    "language_info": {
      "name": "python"
    }
  },
  "cells": [
    {
      "cell_type": "markdown",
      "metadata": {
        "id": "view-in-github",
        "colab_type": "text"
      },
      "source": [
        "<a href=\"https://colab.research.google.com/github/ArceusJC/CPEN-21A-ECE-2-3/blob/main/Midterm_Exam.ipynb\" target=\"_parent\"><img src=\"https://colab.research.google.com/assets/colab-badge.svg\" alt=\"Open In Colab\"/></a>"
      ]
    },
    {
      "cell_type": "markdown",
      "metadata": {
        "id": "mv0C219E5saE"
      },
      "source": [
        "Midterm Exam"
      ]
    },
    {
      "cell_type": "markdown",
      "metadata": {
        "id": "tgYtofii5yWy"
      },
      "source": [
        "11-25-2021"
      ]
    },
    {
      "cell_type": "markdown",
      "metadata": {
        "id": "Cq-vTW9_50ir"
      },
      "source": [
        "## Problem Statement 1"
      ]
    },
    {
      "cell_type": "code",
      "metadata": {
        "colab": {
          "base_uri": "https://localhost:8080/"
        },
        "id": "Xzs3Po5q53Wt",
        "outputId": "9106bd3c-915b-4c1e-b686-55e2435efdb1"
      },
      "source": [
        "print(\"Jose Carlo Eguia Mendoza\") #a. Full name\n",
        "print(\"202015578\") #b. Student Number\n",
        "print(\"23\") #c. Age\n",
        "print(\"September 14, 1998\") #d. Birthday\n",
        "print(\"#50 G.Del Pilar St. san Isidro Zone 1 Tayabas, Quezon\") #e. Address\n",
        "print(\"Bachelor of Science in Electronics and Communication Engineering\") #f. Course\n",
        "print(\"1.85\") #g. Last Sem GWA\n"
      ],
      "execution_count": 10,
      "outputs": [
        {
          "output_type": "stream",
          "name": "stdout",
          "text": [
            "Jose Carlo Eguia Mendoza\n",
            "202015578\n",
            "23\n",
            "September 14, 1998\n",
            "#50 G.Del Pilar St. san Isidro Zone 1 Tayabas, Quezon\n",
            "Bachelor of Science in Electronics and Communication Engineering\n",
            "1.85\n"
          ]
        }
      ]
    },
    {
      "cell_type": "markdown",
      "metadata": {
        "id": "rLc2XRLg6dql"
      },
      "source": [
        "##Problem Statement 2"
      ]
    },
    {
      "cell_type": "code",
      "metadata": {
        "colab": {
          "base_uri": "https://localhost:8080/"
        },
        "id": "3DzM1NAd6Tuf",
        "outputId": "2d7e9c01-a1b7-43f4-d743-f156270f6242"
      },
      "source": [
        "n=4\n",
        "answ=\"Y\"\n",
        "print(2<n and n<6)\n",
        "print(2<n or n==6)\n",
        "print(not 2<n and n==6)\n",
        "print(not n<6)\n",
        "print(answ==\"Y\" or answ==\"y\")\n",
        "print(answ==\"Y\" and answ==\"y\")\n",
        "print(not answ==\"y\")\n",
        "print((2<n and n==5+1)or answ==\"No\")\n",
        "print((n==2 and n==7) or answ==\"Y\")\n",
        "print(n==2 and (n==7 or answ==\"Y\"))"
      ],
      "execution_count": 11,
      "outputs": [
        {
          "output_type": "stream",
          "name": "stdout",
          "text": [
            "True\n",
            "True\n",
            "False\n",
            "False\n",
            "True\n",
            "False\n",
            "True\n",
            "False\n",
            "True\n",
            "False\n"
          ]
        }
      ]
    },
    {
      "cell_type": "markdown",
      "metadata": {
        "id": "FIfQxvrK6mpf"
      },
      "source": [
        "##Problem Statement 3"
      ]
    },
    {
      "cell_type": "code",
      "metadata": {
        "id": "YA-98Z966Wuc"
      },
      "source": [
        "#Given\n",
        "x=2\n",
        "y=-3\n",
        "w=7\n",
        "z=-10\n",
        "\n"
      ],
      "execution_count": 8,
      "outputs": []
    },
    {
      "cell_type": "code",
      "metadata": {
        "colab": {
          "base_uri": "https://localhost:8080/"
        },
        "id": "-bWCgIK26rfR",
        "outputId": "3c299120-d439-4fb3-e6bf-00ee9bddeb13"
      },
      "source": [
        "print(x/y)\n",
        "print(w/y/x)\n",
        "print(z/y%x)\n",
        "print(x%-y*w) \n",
        "print(x%y)\n",
        "print(z%w-y/x*5+5)\n",
        "print(9-x%(2+y))\n",
        "print(z//w)\n",
        "print((2+y)**2)\n",
        "print(w/x*2)"
      ],
      "execution_count": 12,
      "outputs": [
        {
          "output_type": "stream",
          "name": "stdout",
          "text": [
            "-0.6666666666666666\n",
            "-1.1666666666666667\n",
            "1.3333333333333335\n",
            "14\n",
            "-1\n",
            "16.5\n",
            "9\n",
            "-2\n",
            "1\n",
            "7.0\n"
          ]
        }
      ]
    },
    {
      "cell_type": "code",
      "metadata": {
        "id": "CQYfuPxl6x88"
      },
      "source": [
        ""
      ],
      "execution_count": null,
      "outputs": []
    }
  ]
}
