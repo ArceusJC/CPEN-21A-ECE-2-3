{
  "nbformat": 4,
  "nbformat_minor": 0,
  "metadata": {
    "colab": {
      "name": "Final Exam.ipynb",
      "provenance": [],
      "authorship_tag": "ABX9TyOLrD8erXwJAMaunwKH9LQh",
      "include_colab_link": true
    },
    "kernelspec": {
      "name": "python3",
      "display_name": "Python 3"
    },
    "language_info": {
      "name": "python"
    }
  },
  "cells": [
    {
      "cell_type": "markdown",
      "metadata": {
        "id": "view-in-github",
        "colab_type": "text"
      },
      "source": [
        "<a href=\"https://colab.research.google.com/github/ArceusJC/CPEN-21A-ECE-2-3/blob/main/Final_Exam.ipynb\" target=\"_parent\"><img src=\"https://colab.research.google.com/assets/colab-badge.svg\" alt=\"Open In Colab\"/></a>"
      ]
    },
    {
      "cell_type": "markdown",
      "source": [
        "#Final Exam"
      ],
      "metadata": {
        "id": "fDWVatcvydEk"
      }
    },
    {
      "cell_type": "markdown",
      "source": [
        "###Problem Statement  1\n",
        "######Create a Python program that will produce an output of a sum of 10 numbers that are less than 5 using FOR LOOP statement\n"
      ],
      "metadata": {
        "id": "syI5ZqsJpmxz"
      }
    },
    {
      "cell_type": "code",
      "source": [
        "sum=0\n",
        "num=[-10,-8,-6,-4,-2,0,1,2,3,4]\n",
        "for x in num:\n",
        "   print(x)\n",
        "\n",
        "   sum=sum+x\n",
        "print(\"The sum total of 10 numbers less than 5 is\", sum)\n",
        "\n"
      ],
      "metadata": {
        "colab": {
          "base_uri": "https://localhost:8080/"
        },
        "id": "hmn-oR0Fpx9-",
        "outputId": "d741a133-9fe2-4464-e0e6-a5ab22f8820d"
      },
      "execution_count": 10,
      "outputs": [
        {
          "output_type": "stream",
          "name": "stdout",
          "text": [
            "-10\n",
            "-8\n",
            "-6\n",
            "-4\n",
            "-2\n",
            "0\n",
            "1\n",
            "2\n",
            "3\n",
            "4\n",
            "The sum total of 10 numbers less than 5 is -20\n"
          ]
        }
      ]
    },
    {
      "cell_type": "markdown",
      "source": [
        "###Problem Statement 2\n",
        "######Create a Python program that will produce accept five numbers and determine the sum of first and last number among the five numbers entered using WHILE LOOP"
      ],
      "metadata": {
        "id": "J_mg_U2Brqp6"
      }
    },
    {
      "cell_type": "code",
      "source": [
        "X=1\n",
        "while X<=5:\n",
        "   print(X)\n",
        "   X+=1\n",
        "n=12345\n",
        "res=n%10\n",
        "while n>9:\n",
        "  n=n//10\n",
        "res+=n\n",
        "print(\"The sum of 1st and last digit is\", res)\n"
      ],
      "metadata": {
        "colab": {
          "base_uri": "https://localhost:8080/"
        },
        "id": "FKeoIRwur7gB",
        "outputId": "65e7ca02-eff7-442e-df59-97c25203cbf4"
      },
      "execution_count": 20,
      "outputs": [
        {
          "output_type": "stream",
          "name": "stdout",
          "text": [
            "1\n",
            "2\n",
            "3\n",
            "4\n",
            "5\n",
            "The sum of 1st and last digit is 6\n"
          ]
        }
      ]
    },
    {
      "cell_type": "markdown",
      "source": [
        "###Problem Statement 3\n",
        "######Create a Python program to calculate the student grades. It accepts a numerical grade as input and it will display the character grade as output based on the given scale\n"
      ],
      "metadata": {
        "id": "HSD3ACfxtNkR"
      }
    },
    {
      "cell_type": "code",
      "source": [
        "Grades=int(input(\"Input your grade:\"))\n",
        "if Grades>=90:\n",
        "   print(\"A\")\n",
        "elif 80<=Grades<=89:\n",
        "  print(\"B\")\n",
        "elif 70<=Grades<=79:\n",
        "  print(\"C\")\n",
        "elif 60<=Grades<=69:\n",
        "  print(\"D\")\n",
        "else:\n",
        "  print(\"F\")\n"
      ],
      "metadata": {
        "colab": {
          "base_uri": "https://localhost:8080/"
        },
        "id": "exAYXZ7ZtQUe",
        "outputId": "c28b5773-44dc-4a04-cfea-2b2044bd53bd"
      },
      "execution_count": 30,
      "outputs": [
        {
          "output_type": "stream",
          "name": "stdout",
          "text": [
            "Input your grade:89\n",
            "B\n"
          ]
        }
      ]
    }
  ]
}